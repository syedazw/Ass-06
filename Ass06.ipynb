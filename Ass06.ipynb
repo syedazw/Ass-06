{
 "cells": [
  {
   "cell_type": "markdown",
   "id": "1a9eacbe-c324-4334-9335-6d62703fbb8d",
   "metadata": {},
   "source": [
    "# 1."
   ]
  },
  {
   "cell_type": "code",
   "execution_count": 6,
   "id": "31c1eef4-81f1-4847-839a-faf30eefdbbe",
   "metadata": {},
   "outputs": [
    {
     "name": "stdout",
     "output_type": "stream",
     "text": [
      "* \n",
      "* * \n",
      "* * * \n",
      "* * * * \n",
      "* * * * * \n",
      "* * * * \n",
      "* * * \n",
      "* * \n",
      "* \n"
     ]
    }
   ],
   "source": [
    "n = 6\n",
    "\n",
    "for upper_pattern in range(1, n):\n",
    "    print('* ' * upper_pattern)\n",
    "\n",
    "for lower_pattern in range(n-2, 0, -1):\n",
    "    print('* ' * lower_pattern)"
   ]
  },
  {
   "cell_type": "markdown",
   "id": "f6b1f6a5-aea4-4e91-838f-8d3929c45366",
   "metadata": {},
   "source": [
    "# 2."
   ]
  },
  {
   "cell_type": "code",
   "execution_count": 18,
   "id": "2f9f3d48-3af4-4b64-8eb5-7b6ab7b2530e",
   "metadata": {},
   "outputs": [
    {
     "name": "stdin",
     "output_type": "stream",
     "text": [
      "Enter alphabet:  t\n"
     ]
    },
    {
     "name": "stdout",
     "output_type": "stream",
     "text": [
      "This alphabet is consonant\n"
     ]
    }
   ],
   "source": [
    "vowels = ['a','e','i','o','u']\n",
    "\n",
    "user_input = str(input(\"Enter alphabet: \"))\n",
    "\n",
    "for chk_alphabet in user_input:\n",
    "    if chk_alphabet in vowels:\n",
    "        print(\"This alphabet is vowel\")\n",
    "    else:\n",
    "        print(\"This alphabet is consonant\")\n"
   ]
  },
  {
   "cell_type": "markdown",
   "id": "3fac5b4e-15be-4a84-8d7b-f4ed596cf3c8",
   "metadata": {},
   "source": [
    "# 3."
   ]
  },
  {
   "cell_type": "code",
   "execution_count": 20,
   "id": "fc2fa1ae-7184-4d68-9bbd-b8d4c26e9a8a",
   "metadata": {},
   "outputs": [
    {
     "name": "stdin",
     "output_type": "stream",
     "text": [
      "Input a number:  7\n"
     ]
    },
    {
     "name": "stdout",
     "output_type": "stream",
     "text": [
      "7 x 1 = 7\n",
      "7 x 2 = 14\n",
      "7 x 3 = 21\n",
      "7 x 4 = 28\n",
      "7 x 5 = 35\n",
      "7 x 6 = 42\n",
      "7 x 7 = 49\n",
      "7 x 8 = 56\n",
      "7 x 9 = 63\n",
      "7 x 10 = 70\n"
     ]
    }
   ],
   "source": [
    "number = int(input(\"Input a number: \"))\n",
    "\n",
    "for table in range(1, 11):\n",
    "    result = number * table\n",
    "    print(f\"{number} x {table} = {result}\")"
   ]
  },
  {
   "cell_type": "markdown",
   "id": "e898e5b8-8697-4b48-a482-6405be0c8f76",
   "metadata": {},
   "source": [
    "# 4."
   ]
  },
  {
   "cell_type": "code",
   "execution_count": 22,
   "id": "0708eb6d-9945-4285-bc3e-413260087040",
   "metadata": {},
   "outputs": [
    {
     "name": "stdin",
     "output_type": "stream",
     "text": [
      "Guess a number between 1 and 9:  0\n"
     ]
    },
    {
     "name": "stdout",
     "output_type": "stream",
     "text": [
      "Try again!\n"
     ]
    },
    {
     "name": "stdin",
     "output_type": "stream",
     "text": [
      "Guess a number between 1 and 9:  4\n"
     ]
    },
    {
     "name": "stdout",
     "output_type": "stream",
     "text": [
      "Try again!\n"
     ]
    },
    {
     "name": "stdin",
     "output_type": "stream",
     "text": [
      "Guess a number between 1 and 9:  2\n"
     ]
    },
    {
     "name": "stdout",
     "output_type": "stream",
     "text": [
      "Try again!\n"
     ]
    },
    {
     "name": "stdin",
     "output_type": "stream",
     "text": [
      "Guess a number between 1 and 9:  3\n"
     ]
    },
    {
     "name": "stdout",
     "output_type": "stream",
     "text": [
      "Try again!\n"
     ]
    },
    {
     "name": "stdin",
     "output_type": "stream",
     "text": [
      "Guess a number between 1 and 9:  4\n"
     ]
    },
    {
     "name": "stdout",
     "output_type": "stream",
     "text": [
      "Try again!\n"
     ]
    },
    {
     "name": "stdin",
     "output_type": "stream",
     "text": [
      "Guess a number between 1 and 9:  7\n"
     ]
    },
    {
     "name": "stdout",
     "output_type": "stream",
     "text": [
      "Well guessed!\n"
     ]
    }
   ],
   "source": [
    "correct_number = 7\n",
    "\n",
    "while True:\n",
    "    guess = int(input(\"Guess a number between 1 and 9: \"))\n",
    "    \n",
    "    if guess == correct_number:\n",
    "        print(\"Well guessed!\")\n",
    "        break\n",
    "    else:\n",
    "        print(\"Try again!\")\n"
   ]
  },
  {
   "cell_type": "markdown",
   "id": "1850810b-ba18-4834-8a8f-221b11d618d1",
   "metadata": {},
   "source": [
    "# 5."
   ]
  },
  {
   "cell_type": "code",
   "execution_count": 6,
   "id": "8199d468-2e52-4fe2-84ed-91600cf15149",
   "metadata": {},
   "outputs": [
    {
     "name": "stdout",
     "output_type": "stream",
     "text": [
      "Height > 6ft and Weight > 70kg:\n",
      "{'Ahmed': (6.2, 75)}\n"
     ]
    }
   ],
   "source": [
    "students = {\n",
    "    'Ahmed': (6.2, 75),\n",
    "    'Zain': (5.9, 65),\n",
    "    'Hiba': (6.0, 68),\n",
    "    'Shaheer': (5.8, 66)\n",
    "}\n",
    "\n",
    "hei_wei_filtered = {}\n",
    "for name, (height, weight) in students.items():\n",
    "    if height > 6.0 and weight > 70:\n",
    "        hei_wei_filtered[name] = (height, weight)\n",
    "\n",
    "print(\"Height > 6ft and Weight > 70kg:\")\n",
    "print(hei_wei_filtered)"
   ]
  },
  {
   "cell_type": "markdown",
   "id": "2c307c69-ec4f-40a3-8497-8d236ee6d8cf",
   "metadata": {},
   "source": [
    "# 6."
   ]
  },
  {
   "cell_type": "code",
   "execution_count": 2,
   "id": "817ae95f-2b94-4613-8bd5-bc26fc5c99fc",
   "metadata": {},
   "outputs": [
    {
     "name": "stdout",
     "output_type": "stream",
     "text": [
      "Clear the list values in the said dictionary:\n",
      "{'C1': [], 'C2': [], 'C3': []}\n"
     ]
    }
   ],
   "source": [
    "original_dict = {'C1': [10, 20, 30], 'C2': [20, 30, 40], 'C3': [12, 34]}\n",
    "\n",
    "for lst_rem in original_dict:\n",
    "    original_dict[lst_rem].clear()\n",
    "\n",
    "print(\"Clear the list values in the said dictionary:\")\n",
    "print(original_dict)"
   ]
  },
  {
   "cell_type": "markdown",
   "id": "d322cb71-50ff-4334-a556-d974f43b04ba",
   "metadata": {},
   "source": [
    "# 7."
   ]
  },
  {
   "cell_type": "code",
   "execution_count": 12,
   "id": "2e548ffd-a18e-485d-86b6-ba191882c40a",
   "metadata": {},
   "outputs": [
    {
     "name": "stdout",
     "output_type": "stream",
     "text": [
      "The Nile runs through Egypt\n",
      "The Sindh runs through Pakistan\n",
      "The Yangtze runs through China\n",
      "\n",
      "Names of the rivers included in the dictionary:\n",
      "Nile\n",
      "Sindh\n",
      "Yangtze\n",
      "\n",
      "Names of the countries included in the dictionary:\n",
      "Egypt\n",
      "Pakistan\n",
      "China\n"
     ]
    }
   ],
   "source": [
    "rivers = {'Nile': 'Egypt', 'Sindh': 'Pakistan', 'Yangtze': 'China'}\n",
    "\n",
    "for river, country in rivers.items():\n",
    "    print(f\"The {river} runs through {country}\")\n",
    "\n",
    "print(\"\\nNames of the rivers included in the dictionary:\")\n",
    "for river in rivers.keys():\n",
    "    print(river)\n",
    "\n",
    "print(\"\\nNames of the countries included in the dictionary:\")\n",
    "for country in rivers.values():\n",
    "    print(country)"
   ]
  },
  {
   "cell_type": "markdown",
   "id": "2a8a47d9-5755-40b4-9376-dac638cd5bc8",
   "metadata": {},
   "source": [
    "# 8."
   ]
  },
  {
   "cell_type": "code",
   "execution_count": 18,
   "id": "0fa8c563-a527-44b1-bb7d-f22445b146d9",
   "metadata": {},
   "outputs": [
    {
     "name": "stdin",
     "output_type": "stream",
     "text": [
      "Enter your age:  20\n"
     ]
    },
    {
     "name": "stdout",
     "output_type": "stream",
     "text": [
      "The ticket is $15.\n"
     ]
    }
   ],
   "source": [
    "user_input = int(input(\"Enter your age: \"))\n",
    "\n",
    "if user_input < 3:\n",
    "    print(\"The ticket is free\")\n",
    "elif 3 < user_input < 12:\n",
    "    print(\"The ticket is $10.\")\n",
    "elif user_input > 12:\n",
    "    print(\"The ticket is $15.\")\n",
    "else:\n",
    "    print(\"Your are not able to buy ticket. Please contact management dept\")"
   ]
  },
  {
   "cell_type": "code",
   "execution_count": null,
   "id": "b29a3ef1-8343-47c6-afcd-a90e6b86c63f",
   "metadata": {},
   "outputs": [],
   "source": []
  }
 ],
 "metadata": {
  "kernelspec": {
   "display_name": "Python 3 (ipykernel)",
   "language": "python",
   "name": "python3"
  },
  "language_info": {
   "codemirror_mode": {
    "name": "ipython",
    "version": 3
   },
   "file_extension": ".py",
   "mimetype": "text/x-python",
   "name": "python",
   "nbconvert_exporter": "python",
   "pygments_lexer": "ipython3",
   "version": "3.11.7"
  }
 },
 "nbformat": 4,
 "nbformat_minor": 5
}
